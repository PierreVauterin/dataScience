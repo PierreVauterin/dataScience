{
 "cells": [
  {
   "cell_type": "markdown",
   "metadata": {},
   "source": [
    "# Importations"
   ]
  },
  {
   "cell_type": "code",
   "execution_count": 46,
   "metadata": {},
   "outputs": [],
   "source": [
    "import pandas as pd\n",
    "import matplotlib.pyplot as plt\n",
    "import seaborn as sns"
   ]
  },
  {
   "cell_type": "markdown",
   "metadata": {},
   "source": [
    "# Dataset"
   ]
  },
  {
   "cell_type": "markdown",
   "metadata": {},
   "source": [
    "This dataset contains logs of the horde faction of a world of warcraft server. Data has been collected everyday between January 2006 (World of Warcraft Classic era) and January 2009 (Wrath of the Lich King era, the second expansion). We can use this data to analyze the character repartition, the addiction to the game with the players' assiduity, and some other minor details such as logout zones. <br/>\n",
    "\n",
    "This notebook is a work in progress, some more content will be added in the future, as well as more in depth analysis."
   ]
  },
  {
   "cell_type": "code",
   "execution_count": 47,
   "metadata": {},
   "outputs": [
    {
     "name": "stdout",
     "output_type": "stream",
     "text": [
      "(36513647, 7)\n",
      "(40620, 7)\n"
     ]
    },
    {
     "data": {
      "text/html": [
       "<div>\n",
       "<style scoped>\n",
       "    .dataframe tbody tr th:only-of-type {\n",
       "        vertical-align: middle;\n",
       "    }\n",
       "\n",
       "    .dataframe tbody tr th {\n",
       "        vertical-align: top;\n",
       "    }\n",
       "\n",
       "    .dataframe thead th {\n",
       "        text-align: right;\n",
       "    }\n",
       "</style>\n",
       "<table border=\"1\" class=\"dataframe\">\n",
       "  <thead>\n",
       "    <tr style=\"text-align: right;\">\n",
       "      <th></th>\n",
       "      <th>player_id</th>\n",
       "      <th>guild</th>\n",
       "      <th>level</th>\n",
       "      <th>race</th>\n",
       "      <th>class</th>\n",
       "      <th>where</th>\n",
       "      <th>datetime</th>\n",
       "    </tr>\n",
       "  </thead>\n",
       "  <tbody>\n",
       "    <tr>\n",
       "      <th>0</th>\n",
       "      <td>46340</td>\n",
       "      <td>53.0</td>\n",
       "      <td>26</td>\n",
       "      <td>Orc</td>\n",
       "      <td>Hunter</td>\n",
       "      <td>Razorfen Kraul</td>\n",
       "      <td>2007-06-12 03:17:48</td>\n",
       "    </tr>\n",
       "    <tr>\n",
       "      <th>1</th>\n",
       "      <td>31887</td>\n",
       "      <td>NaN</td>\n",
       "      <td>10</td>\n",
       "      <td>Orc</td>\n",
       "      <td>Hunter</td>\n",
       "      <td>Durotar</td>\n",
       "      <td>2007-06-12 03:17:48</td>\n",
       "    </tr>\n",
       "    <tr>\n",
       "      <th>2</th>\n",
       "      <td>47258</td>\n",
       "      <td>NaN</td>\n",
       "      <td>15</td>\n",
       "      <td>Orc</td>\n",
       "      <td>Warrior</td>\n",
       "      <td>The Barrens</td>\n",
       "      <td>2007-06-12 03:17:48</td>\n",
       "    </tr>\n",
       "    <tr>\n",
       "      <th>3</th>\n",
       "      <td>17448</td>\n",
       "      <td>NaN</td>\n",
       "      <td>43</td>\n",
       "      <td>Orc</td>\n",
       "      <td>Hunter</td>\n",
       "      <td>Silverpine Forest</td>\n",
       "      <td>2007-06-12 03:17:48</td>\n",
       "    </tr>\n",
       "    <tr>\n",
       "      <th>4</th>\n",
       "      <td>45159</td>\n",
       "      <td>104.0</td>\n",
       "      <td>57</td>\n",
       "      <td>Orc</td>\n",
       "      <td>Warlock</td>\n",
       "      <td>Winterspring</td>\n",
       "      <td>2007-06-12 03:17:53</td>\n",
       "    </tr>\n",
       "  </tbody>\n",
       "</table>\n",
       "</div>"
      ],
      "text/plain": [
       "   player_id  guild  level race    class              where  \\\n",
       "0      46340   53.0     26  Orc   Hunter     Razorfen Kraul   \n",
       "1      31887    NaN     10  Orc   Hunter            Durotar   \n",
       "2      47258    NaN     15  Orc  Warrior        The Barrens   \n",
       "3      17448    NaN     43  Orc   Hunter  Silverpine Forest   \n",
       "4      45159  104.0     57  Orc  Warlock       Winterspring   \n",
       "\n",
       "             datetime  \n",
       "0 2007-06-12 03:17:48  \n",
       "1 2007-06-12 03:17:48  \n",
       "2 2007-06-12 03:17:48  \n",
       "3 2007-06-12 03:17:48  \n",
       "4 2007-06-12 03:17:53  "
      ]
     },
     "execution_count": 47,
     "metadata": {},
     "output_type": "execute_result"
    }
   ],
   "source": [
    "data = pd.read_parquet('data.parquet',engine='pyarrow')\n",
    "print(data.shape)\n",
    "\n",
    "rows_with_numbers = data[data['race'].str.contains(r'\\d', regex=True)]\n",
    "print(rows_with_numbers.shape)\n",
    "data = data.drop(rows_with_numbers.index)\n",
    "\n",
    "data=data[data[\"race\"].isin([\"Orc\",\"Troll\",\"Tauren\",\"Undead\",\"Blood Elf\"])] # We do not want \"Blood Elf\" to be erased because of the space\n",
    "data=data[data[\"class\"].isin([\"Hunter\",\"Mage\",\"Warrior\",\"Warlock\",\"Death Knight\",\"Priest\",\"Rogue\",\"Paladin\",\"Shaman\",\"Druid\"])]\n",
    "data['race'] = data['race'].cat.remove_unused_categories()\n",
    "data['class'] = data['class'].cat.remove_unused_categories()\n",
    "data.head()"
   ]
  },
  {
   "cell_type": "markdown",
   "metadata": {},
   "source": [
    "# Character analysis"
   ]
  },
  {
   "cell_type": "code",
   "execution_count": 48,
   "metadata": {},
   "outputs": [
    {
     "name": "stdout",
     "output_type": "stream",
     "text": [
      "(91056, 7)\n"
     ]
    },
    {
     "name": "stderr",
     "output_type": "stream",
     "text": [
      "c:\\Users\\cheni\\AppData\\Local\\Programs\\Python\\Python37\\lib\\site-packages\\ipykernel_launcher.py:8: SettingWithCopyWarning: \n",
      "A value is trying to be set on a copy of a slice from a DataFrame.\n",
      "Try using .loc[row_indexer,col_indexer] = value instead\n",
      "\n",
      "See the caveats in the documentation: https://pandas.pydata.org/pandas-docs/stable/user_guide/indexing.html#returning-a-view-versus-a-copy\n",
      "  \n"
     ]
    },
    {
     "data": {
      "text/html": [
       "<div>\n",
       "<style scoped>\n",
       "    .dataframe tbody tr th:only-of-type {\n",
       "        vertical-align: middle;\n",
       "    }\n",
       "\n",
       "    .dataframe tbody tr th {\n",
       "        vertical-align: top;\n",
       "    }\n",
       "\n",
       "    .dataframe thead th {\n",
       "        text-align: right;\n",
       "    }\n",
       "</style>\n",
       "<table border=\"1\" class=\"dataframe\">\n",
       "  <thead>\n",
       "    <tr style=\"text-align: right;\">\n",
       "      <th></th>\n",
       "      <th>player_id</th>\n",
       "      <th>guild</th>\n",
       "      <th>level</th>\n",
       "      <th>race</th>\n",
       "      <th>class</th>\n",
       "      <th>where</th>\n",
       "      <th>datetime</th>\n",
       "      <th>character</th>\n",
       "    </tr>\n",
       "  </thead>\n",
       "  <tbody>\n",
       "    <tr>\n",
       "      <th>0</th>\n",
       "      <td>46340</td>\n",
       "      <td>53.0</td>\n",
       "      <td>26</td>\n",
       "      <td>Orc</td>\n",
       "      <td>Hunter</td>\n",
       "      <td>Razorfen Kraul</td>\n",
       "      <td>2007-06-12 03:17:48</td>\n",
       "      <td>Orc Hunter</td>\n",
       "    </tr>\n",
       "    <tr>\n",
       "      <th>1</th>\n",
       "      <td>31887</td>\n",
       "      <td>NaN</td>\n",
       "      <td>10</td>\n",
       "      <td>Orc</td>\n",
       "      <td>Hunter</td>\n",
       "      <td>Durotar</td>\n",
       "      <td>2007-06-12 03:17:48</td>\n",
       "      <td>Orc Hunter</td>\n",
       "    </tr>\n",
       "    <tr>\n",
       "      <th>2</th>\n",
       "      <td>47258</td>\n",
       "      <td>NaN</td>\n",
       "      <td>15</td>\n",
       "      <td>Orc</td>\n",
       "      <td>Warrior</td>\n",
       "      <td>The Barrens</td>\n",
       "      <td>2007-06-12 03:17:48</td>\n",
       "      <td>Orc Warrior</td>\n",
       "    </tr>\n",
       "    <tr>\n",
       "      <th>3</th>\n",
       "      <td>17448</td>\n",
       "      <td>NaN</td>\n",
       "      <td>43</td>\n",
       "      <td>Orc</td>\n",
       "      <td>Hunter</td>\n",
       "      <td>Silverpine Forest</td>\n",
       "      <td>2007-06-12 03:17:48</td>\n",
       "      <td>Orc Hunter</td>\n",
       "    </tr>\n",
       "    <tr>\n",
       "      <th>4</th>\n",
       "      <td>45159</td>\n",
       "      <td>104.0</td>\n",
       "      <td>57</td>\n",
       "      <td>Orc</td>\n",
       "      <td>Warlock</td>\n",
       "      <td>Winterspring</td>\n",
       "      <td>2007-06-12 03:17:53</td>\n",
       "      <td>Orc Warlock</td>\n",
       "    </tr>\n",
       "  </tbody>\n",
       "</table>\n",
       "</div>"
      ],
      "text/plain": [
       "   player_id  guild  level race    class              where  \\\n",
       "0      46340   53.0     26  Orc   Hunter     Razorfen Kraul   \n",
       "1      31887    NaN     10  Orc   Hunter            Durotar   \n",
       "2      47258    NaN     15  Orc  Warrior        The Barrens   \n",
       "3      17448    NaN     43  Orc   Hunter  Silverpine Forest   \n",
       "4      45159  104.0     57  Orc  Warlock       Winterspring   \n",
       "\n",
       "             datetime    character  \n",
       "0 2007-06-12 03:17:48   Orc Hunter  \n",
       "1 2007-06-12 03:17:48   Orc Hunter  \n",
       "2 2007-06-12 03:17:48  Orc Warrior  \n",
       "3 2007-06-12 03:17:48   Orc Hunter  \n",
       "4 2007-06-12 03:17:53  Orc Warlock  "
      ]
     },
     "execution_count": 48,
     "metadata": {},
     "output_type": "execute_result"
    }
   ],
   "source": [
    "data.sort_values(by=\"race\")\n",
    "uniquePlayerData=data.drop_duplicates(subset=\"player_id\")\n",
    "#uniquePlayerData = uniquePlayerData[uniquePlayerData[\"race\"].str.isalpha()]\n",
    "print(uniquePlayerData.shape)\n",
    "\n",
    "character = uniquePlayerData[\"race\"].astype(str)+\" \"+uniquePlayerData[\"class\"].astype(str)\n",
    "\n",
    "uniquePlayerData[\"character\"] = character\n",
    "uniquePlayerData.head()"
   ]
  },
  {
   "cell_type": "markdown",
   "metadata": {},
   "source": [
    "## Race repartition"
   ]
  },
  {
   "cell_type": "code",
   "execution_count": 49,
   "metadata": {},
   "outputs": [
    {
     "name": "stdout",
     "output_type": "stream",
     "text": [
      "[28547 17781 16387 14283 14058]\n"
     ]
    },
    {
     "data": {
      "image/png": "[encoded data removed]",
      "text/plain": [
       "<Figure size 432x288 with 1 Axes>"
      ]
     },
     "metadata": {
      "needs_background": "light"
     },
     "output_type": "display_data"
    },
    {
     "data": {
      "image/png": "[encoded data removed]",
      "text/plain": [
       "<Figure size 432x288 with 1 Axes>"
      ]
     },
     "metadata": {},
     "output_type": "display_data"
    }
   ],
   "source": [
    "print(uniquePlayerData[\"race\"].value_counts().values)\n",
    "sns.barplot(uniquePlayerData,y=uniquePlayerData[\"race\"].value_counts().index,x=uniquePlayerData[\"race\"].value_counts().values,order = uniquePlayerData[\"race\"].value_counts().index)\n",
    "plt.title(\"Race repartition\")\n",
    "plt.show()\n",
    "\n",
    "plt.pie(uniquePlayerData[\"race\"].value_counts().values, labels = uniquePlayerData[\"race\"].value_counts().index,autopct='%1.1f%%')\n",
    "plt.plot(\"Pie chart of race repartition\")\n",
    "plt.show()"
   ]
  },
  {
   "cell_type": "markdown",
   "metadata": {},
   "source": [
    "How to analyze this plot? First, we have to highlight a surprising result: Orcs are not the most plaeyd race, even though they are the Horde main race. The first spot has been stolen by Blood Elves with 31.4% of players, almost a 3rd of the player base. 3rd and 4th races are Troll and Tauren, with only 0.3% player of difference.\n",
    "\n",
    "What could be the reasons for this ranking? For the Blood Elves, the access to the Paladin class (see below) as well as their aesthetic may be a good explanation for them reaching the first place. <br/>\n",
    "\n",
    "For the same reasons, Undeads (18%) are the third most played race, as their racial traits make the Undeads nice Player versus Player (PvP) characters.\n"
   ]
  },
  {
   "cell_type": "markdown",
   "metadata": {},
   "source": [
    "## Class repartition"
   ]
  },
  {
   "cell_type": "code",
   "execution_count": 59,
   "metadata": {},
   "outputs": [
    {
     "name": "stdout",
     "output_type": "stream",
     "text": [
      "[21381 11099 10717 10701  9437  7966  7645  6412  3960  1738]\n"
     ]
    },
    {
     "data": {
      "image/png": "[encoded data removed]",
      "text/plain": [
       "<Figure size 432x288 with 1 Axes>"
      ]
     },
     "metadata": {
      "needs_background": "light"
     },
     "output_type": "display_data"
    },
    {
     "data": {
      "image/png": "[encoded data removed]",
      "text/plain": [
       "<Figure size 432x288 with 1 Axes>"
      ]
     },
     "metadata": {},
     "output_type": "display_data"
    }
   ],
   "source": [
    "print(uniquePlayerData[\"class\"].value_counts().values)\n",
    "sns.barplot(uniquePlayerData,y=uniquePlayerData[\"class\"].value_counts().index,x=uniquePlayerData[\"class\"].value_counts().values,order = uniquePlayerData[\"class\"].value_counts().index,)\n",
    "plt.title(\"Class repartition\")\n",
    "plt.show()\n",
    "\n",
    "plt.pie(uniquePlayerData[\"class\"].value_counts().values, labels = uniquePlayerData[\"class\"].value_counts().index,autopct='%1.1f%%')\n",
    "plt.plot(\"Pie chart of class repartition\")\n",
    "plt.show()"
   ]
  },
  {
   "cell_type": "markdown",
   "metadata": {},
   "source": [
    "What do we learn by watching the class repartition? First, the most popular class is Warrior, which was predictable as it is the most basic class choice. It is most likely going to be the same on the Alliance side. Then, the least popular class is the Death Knight, which was also predictable, for two reasons: this is the latest class, added in the latest expansion (Wrath of the Lich King), and to create a Death Knight, the player has to have a character level 55 or above, which requires some playtime on another character. <br />\n",
    "\n",
    "Now, let us take a look at some more technical results. The top 5 classes are damage dealer classes (known as DPS, for Damage Per Second), as player are more likely to play a damage dealing character instead of a tank or a healer. Even though Warrior have the Protection specialization (Tank) all the others (3 per classes, then 14 specializations) are DPS. This also explains why Priest (2 Healing specializations, 1 DPS) and Paladin (1 Healing specialization, 1 Tanking and 1 DPS) are a bit left behind. <br/>\n",
    "\n",
    "One last question remains: why are Druid so rarely used? The answer lies in the class/race combination. Indeed, to create a Horde Druid in the game (in Wrath of the Lich King, there are new combinations available in the current version), you have to play a Tauren (and a Night Elf if you are playing for the Alliance). This restriction, coupled with the fact that the specializations are Healer/Tank/DPS, limits the number of players willing to play a Druid. However, this is the same with Paladin and Blood Elves, but the race graph shows that there are much more Blood Elves than Taurens, which makes Paladin a more played class than Druid (without considering that Paladin was one of the best classes back then)."
   ]
  },
  {
   "cell_type": "markdown",
   "metadata": {},
   "source": [
    "## Class+race repartition"
   ]
  },
  {
   "cell_type": "code",
   "execution_count": 58,
   "metadata": {},
   "outputs": [
    {
     "data": {
      "image/png": "[encoded data removed]",
      "text/plain": [
       "<Figure size 432x504 with 1 Axes>"
      ]
     },
     "metadata": {
      "needs_background": "light"
     },
     "output_type": "display_data"
    }
   ],
   "source": [
    "fig, ax = plt.subplots(figsize=(6, 7))\n",
    "sns.barplot(uniquePlayerData,y=uniquePlayerData[\"character\"].value_counts().index,x=uniquePlayerData[\"character\"].value_counts().values,order = uniquePlayerData[\"character\"].value_counts().index,ax=ax)\n",
    "plt.title(\"Character repartition\")\n",
    "plt.show()\n",
    "\n",
    "plt.pie(uniquePlayerData[\"character\"].value_counts().values, labels = uniquePlayerData[\"character\"].value_counts().index,autopct='%1.1f%%',radius=5,textprops={\"fontsize\":\"20\"})\n",
    "plt.plot(\"Pie chart of character repartition\")\n",
    "plt.show()"
   ]
  },
  {
   "cell_type": "markdown",
   "metadata": {},
   "source": [
    "Without surprise, Orc Warrior is the most common choice of character, as it is the most basic combination one can make for the Horde. As expected, Paladins are well represented with the Blood Elves, while Druids are not even the Taurens' first choice. Overall, except for the 5 first combinations, and the Death Knights, the combinations are well distributed. <br/>\n",
    "\n",
    "Let us take a look at the repartition individually:<br/>\n",
    "Warrior: \n",
    "- Most: Orcs\n",
    "- Least: Undeads\n",
    "\n",
    "Mage:\n",
    "- Most: Blood Elves\n",
    "- Least: Trolls\n",
    "\n",
    "Warlock: \n",
    "- Most: Blood Elves\n",
    "- Least: Orcs\n",
    "\n",
    "Hunter: \n",
    "- Most: Blood Elves\n",
    "- Least: Taurens\n",
    "\n",
    "Rogue:\n",
    "- Most: Blood Elves\n",
    "- Least: Orcs\n",
    "\n",
    "Shaman:\n",
    "- Most: Taurens\n",
    "- Least: Orcs\n",
    "\n",
    "Priest:\n",
    "- Most: Blood Elves\n",
    "- Least: Trolls\n",
    "\n",
    "Death Knight:\n",
    "- Most: Blood Elves\n",
    "- Least: Trolls\n",
    "\n",
    "What can we conclude from there? When Blood Elves are eligible for a class, they are the most played race for this class. On the other hand, it looks like that, apart from Warriors, Orcs are excluded from the other classes, being the least chosen pick for almost all classes (except for Death Knights where they are second to last)."
   ]
  }
 ],
 "metadata": {
  "kernelspec": {
   "display_name": "Python 3",
   "language": "python",
   "name": "python3"
  },
  "language_info": {
   "codemirror_mode": {
    "name": "ipython",
    "version": 3
   },
   "file_extension": ".py",
   "mimetype": "text/x-python",
   "name": "python",
   "nbconvert_exporter": "python",
   "pygments_lexer": "ipython3",
   "version": "3.7.2"
  }
 },
 "nbformat": 4,
 "nbformat_minor": 2
}
