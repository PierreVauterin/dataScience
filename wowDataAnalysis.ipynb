{
 "cells": [
  {
   "cell_type": "markdown",
   "metadata": {},
   "source": [
    "# Importations"
   ]
  },
  {
   "cell_type": "code",
   "execution_count": 2,
   "metadata": {},
   "outputs": [],
   "source": [
    "import pandas as pd"
   ]
  },
  {
   "cell_type": "markdown",
   "metadata": {},
   "source": [
    "# Dataset"
   ]
  },
  {
   "cell_type": "code",
   "execution_count": 3,
   "metadata": {},
   "outputs": [
    {
     "name": "stdout",
     "output_type": "stream",
     "text": [
      "0              Razorfen Kraul\n",
      "1                     Durotar\n",
      "2                 The Barrens\n",
      "3           Silverpine Forest\n",
      "4                Winterspring\n",
      "                  ...        \n",
      "36513642            Orgrimmar\n",
      "36513643        Warsong Gulch\n",
      "36513644         Winterspring\n",
      "36513645     Thousand Needles\n",
      "36513646     Blackrock Depths\n",
      "Name: where, Length: 36513647, dtype: category\n",
      "Categories (173, object): ['Razorfen Kraul', 'Durotar', 'The Barrens', 'Silverpine Forest', ..., 'The Forbidding Sea', '15641', '61477', '1007城']\n"
     ]
    }
   ],
   "source": [
    "data = pd.read_parquet('data.parquet',engine='pyarrow')\n",
    "\n",
    "print(data[\"where\"])"
   ]
  }
 ],
 "metadata": {
  "kernelspec": {
   "display_name": "Python 3",
   "language": "python",
   "name": "python3"
  },
  "language_info": {
   "codemirror_mode": {
    "name": "ipython",
    "version": 3
   },
   "file_extension": ".py",
   "mimetype": "text/x-python",
   "name": "python",
   "nbconvert_exporter": "python",
   "pygments_lexer": "ipython3",
   "version": "3.7.2"
  }
 },
 "nbformat": 4,
 "nbformat_minor": 2
}
