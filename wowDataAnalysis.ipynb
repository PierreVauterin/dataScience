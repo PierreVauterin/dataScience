{
 "cells": [
  {
   "cell_type": "markdown",
   "metadata": {},
   "source": [
    "# Importations"
   ]
  },
  {
   "cell_type": "code",
   "execution_count": 7,
   "metadata": {},
   "outputs": [],
   "source": [
    "import pandas as pd\n",
    "import matplotlib.pyplot as plt\n",
    "import seaborn as sns"
   ]
  },
  {
   "cell_type": "markdown",
   "metadata": {},
   "source": [
    "# Dataset"
   ]
  },
  {
   "cell_type": "code",
   "execution_count": 45,
   "metadata": {},
   "outputs": [
    {
     "name": "stdout",
     "output_type": "stream",
     "text": [
      "(30342694, 7)\n",
      "0              Razorfen Kraul\n",
      "4                Winterspring\n",
      "5                 Zangarmarsh\n",
      "6           Shadowmoon Valley\n",
      "8           Shadowmoon Valley\n",
      "                  ...        \n",
      "36513642            Orgrimmar\n",
      "36513643        Warsong Gulch\n",
      "36513644         Winterspring\n",
      "36513645     Thousand Needles\n",
      "36513646     Blackrock Depths\n",
      "Name: where, Length: 30342694, dtype: category\n",
      "Categories (173, object): ['Razorfen Kraul', 'Durotar', 'The Barrens', 'Silverpine Forest', ..., 'The Forbidding Sea', '15641', '61477', '1007城']\n"
     ]
    }
   ],
   "source": [
    "data = pd.read_parquet('data.parquet',engine='pyarrow')\n",
    "print(data.shape)\n",
    "print(data[\"where\"])"
   ]
  },
  {
   "cell_type": "code",
   "execution_count": 46,
   "metadata": {},
   "outputs": [
    {
     "name": "stdout",
     "output_type": "stream",
     "text": [
      "(20652, 7)\n"
     ]
    },
    {
     "data": {
      "text/html": [
       "<div>\n",
       "<style scoped>\n",
       "    .dataframe tbody tr th:only-of-type {\n",
       "        vertical-align: middle;\n",
       "    }\n",
       "\n",
       "    .dataframe tbody tr th {\n",
       "        vertical-align: top;\n",
       "    }\n",
       "\n",
       "    .dataframe thead th {\n",
       "        text-align: right;\n",
       "    }\n",
       "</style>\n",
       "<table border=\"1\" class=\"dataframe\">\n",
       "  <thead>\n",
       "    <tr style=\"text-align: right;\">\n",
       "      <th></th>\n",
       "      <th>player_id</th>\n",
       "      <th>guild</th>\n",
       "      <th>level</th>\n",
       "      <th>race</th>\n",
       "      <th>class</th>\n",
       "      <th>where</th>\n",
       "      <th>datetime</th>\n",
       "    </tr>\n",
       "  </thead>\n",
       "  <tbody>\n",
       "    <tr>\n",
       "      <th>0</th>\n",
       "      <td>46340</td>\n",
       "      <td>53.0</td>\n",
       "      <td>26</td>\n",
       "      <td>Orc</td>\n",
       "      <td>Hunter</td>\n",
       "      <td>Razorfen Kraul</td>\n",
       "      <td>2007-06-12 03:17:48</td>\n",
       "    </tr>\n",
       "    <tr>\n",
       "      <th>4</th>\n",
       "      <td>45159</td>\n",
       "      <td>104.0</td>\n",
       "      <td>57</td>\n",
       "      <td>Orc</td>\n",
       "      <td>Warlock</td>\n",
       "      <td>Winterspring</td>\n",
       "      <td>2007-06-12 03:17:53</td>\n",
       "    </tr>\n",
       "    <tr>\n",
       "      <th>5</th>\n",
       "      <td>714</td>\n",
       "      <td>53.0</td>\n",
       "      <td>63</td>\n",
       "      <td>Orc</td>\n",
       "      <td>Rogue</td>\n",
       "      <td>Zangarmarsh</td>\n",
       "      <td>2007-06-12 03:17:53</td>\n",
       "    </tr>\n",
       "    <tr>\n",
       "      <th>6</th>\n",
       "      <td>1564</td>\n",
       "      <td>205.0</td>\n",
       "      <td>70</td>\n",
       "      <td>Orc</td>\n",
       "      <td>Warrior</td>\n",
       "      <td>Shadowmoon Valley</td>\n",
       "      <td>2007-06-12 03:18:03</td>\n",
       "    </tr>\n",
       "    <tr>\n",
       "      <th>8</th>\n",
       "      <td>43</td>\n",
       "      <td>5.0</td>\n",
       "      <td>70</td>\n",
       "      <td>Orc</td>\n",
       "      <td>Warrior</td>\n",
       "      <td>Shadowmoon Valley</td>\n",
       "      <td>2007-06-12 03:18:03</td>\n",
       "    </tr>\n",
       "  </tbody>\n",
       "</table>\n",
       "</div>"
      ],
      "text/plain": [
       "   player_id  guild  level race    class              where  \\\n",
       "0      46340   53.0     26  Orc   Hunter     Razorfen Kraul   \n",
       "4      45159  104.0     57  Orc  Warlock       Winterspring   \n",
       "5        714   53.0     63  Orc    Rogue        Zangarmarsh   \n",
       "6       1564  205.0     70  Orc  Warrior  Shadowmoon Valley   \n",
       "8         43    5.0     70  Orc  Warrior  Shadowmoon Valley   \n",
       "\n",
       "             datetime  \n",
       "0 2007-06-12 03:17:48  \n",
       "4 2007-06-12 03:17:53  \n",
       "5 2007-06-12 03:17:53  \n",
       "6 2007-06-12 03:18:03  \n",
       "8 2007-06-12 03:18:03  "
      ]
     },
     "execution_count": 46,
     "metadata": {},
     "output_type": "execute_result"
    }
   ],
   "source": [
    "data.sort_values(by=\"race\")\n",
    "uniquePlayerData=data.drop_duplicates(subset=\"player_id\")\n",
    "print(uniquePlayerData.shape)"
   ]
  },
  {
   "cell_type": "code",
   "execution_count": 49,
   "metadata": {},
   "outputs": [
    {
     "name": "stdout",
     "output_type": "stream",
     "text": [
      "[5332 4937 3757 3735 2889    1    1    0    0    0]\n"
     ]
    },
    {
     "name": "stderr",
     "output_type": "stream",
     "text": [
      "c:\\Users\\cheni\\AppData\\Local\\Programs\\Python\\Python37\\lib\\site-packages\\IPython\\core\\pylabtools.py:151: UserWarning: Glyph 20154 (\\N{CJK UNIFIED IDEOGRAPH-4EBA}) missing from current font.\n",
      "  fig.canvas.print_figure(bytes_io, **kw)\n",
      "c:\\Users\\cheni\\AppData\\Local\\Programs\\Python\\Python37\\lib\\site-packages\\IPython\\core\\pylabtools.py:151: UserWarning: Glyph 26063 (\\N{CJK UNIFIED IDEOGRAPH-65CF}) missing from current font.\n",
      "  fig.canvas.print_figure(bytes_io, **kw)\n",
      "c:\\Users\\cheni\\AppData\\Local\\Programs\\Python\\Python37\\lib\\site-packages\\IPython\\core\\pylabtools.py:151: UserWarning: Glyph 22934 (\\N{CJK UNIFIED IDEOGRAPH-5996}) missing from current font.\n",
      "  fig.canvas.print_figure(bytes_io, **kw)\n"
     ]
    },
    {
     "data": {
      "image/png": "[encoded data removed]",
      "text/plain": [
       "<Figure size 432x288 with 1 Axes>"
      ]
     },
     "metadata": {
      "needs_background": "light"
     },
     "output_type": "display_data"
    },
    {
     "name": "stdout",
     "output_type": "stream",
     "text": [
      "[3115 2960 2682 2370 2261 2023 1907 1430 1269  634    1    0    0]\n"
     ]
    },
    {
     "name": "stderr",
     "output_type": "stream",
     "text": [
      "c:\\Users\\cheni\\AppData\\Local\\Programs\\Python\\Python37\\lib\\site-packages\\IPython\\core\\pylabtools.py:151: UserWarning: Glyph 20234 (\\N{CJK UNIFIED IDEOGRAPH-4F0A}) missing from current font.\n",
      "  fig.canvas.print_figure(bytes_io, **kw)\n"
     ]
    },
    {
     "data": {
      "image/png": "[encoded data removed]",
      "text/plain": [
       "<Figure size 432x288 with 1 Axes>"
      ]
     },
     "metadata": {
      "needs_background": "light"
     },
     "output_type": "display_data"
    }
   ],
   "source": [
    "print(uniquePlayerData[\"race\"].value_counts().values)\n",
    "sns.barplot(uniquePlayerData,y=uniquePlayerData[\"race\"].value_counts().index,x=uniquePlayerData[\"race\"].value_counts().values)\n",
    "plt.title(\"Race repartition\")\n",
    "plt.show()\n",
    "\n",
    "print(uniquePlayerData[\"class\"].value_counts().values)\n",
    "sns.barplot(uniquePlayerData,y=uniquePlayerData[\"class\"].value_counts().index,x=uniquePlayerData[\"class\"].value_counts().values)\n",
    "plt.title(\"Class repartition\")\n",
    "plt.show()"
   ]
  }
 ],
 "metadata": {
  "kernelspec": {
   "display_name": "Python 3",
   "language": "python",
   "name": "python3"
  },
  "language_info": {
   "codemirror_mode": {
    "name": "ipython",
    "version": 3
   },
   "file_extension": ".py",
   "mimetype": "text/x-python",
   "name": "python",
   "nbconvert_exporter": "python",
   "pygments_lexer": "ipython3",
   "version": "3.7.2"
  }
 },
 "nbformat": 4,
 "nbformat_minor": 2
}
