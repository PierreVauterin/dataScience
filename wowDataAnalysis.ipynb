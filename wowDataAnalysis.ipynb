{
 "cells": [
  {
   "cell_type": "markdown",
   "metadata": {},
   "source": [
    "# Importations"
   ]
  },
  {
   "cell_type": "code",
   "execution_count": 7,
   "metadata": {},
   "outputs": [],
   "source": [
    "import pandas as pd\n",
    "import matplotlib.pyplot as plt\n",
    "import seaborn as sns"
   ]
  },
  {
   "cell_type": "markdown",
   "metadata": {},
   "source": [
    "# Dataset"
   ]
  },
  {
   "cell_type": "code",
   "execution_count": 40,
   "metadata": {},
   "outputs": [
    {
     "name": "stdout",
     "output_type": "stream",
     "text": [
      "(36513647, 7)\n",
      "0              Razorfen Kraul\n",
      "1                     Durotar\n",
      "2                 The Barrens\n",
      "3           Silverpine Forest\n",
      "4                Winterspring\n",
      "                  ...        \n",
      "36513642            Orgrimmar\n",
      "36513643        Warsong Gulch\n",
      "36513644         Winterspring\n",
      "36513645     Thousand Needles\n",
      "36513646     Blackrock Depths\n",
      "Name: where, Length: 36513647, dtype: category\n",
      "Categories (173, object): ['Razorfen Kraul', 'Durotar', 'The Barrens', 'Silverpine Forest', ..., 'The Forbidding Sea', '15641', '61477', '1007城']\n"
     ]
    }
   ],
   "source": [
    "data = pd.read_parquet('data.parquet',engine='pyarrow')\n",
    "data = data.dropna(subset=[' race', ' charclass', ' zone', ' guild', ' timestamp'])\n",
    "#data.drop(data[data[\"race\"].str.isalpha()].index)\n",
    "print(data.shape)\n",
    "print(data[\"where\"])"
   ]
  },
  {
   "cell_type": "code",
   "execution_count": 36,
   "metadata": {},
   "outputs": [
    {
     "name": "stdout",
     "output_type": "stream",
     "text": [
      "(29096, 7)\n"
     ]
    },
    {
     "data": {
      "text/html": [
       "<div>\n",
       "<style scoped>\n",
       "    .dataframe tbody tr th:only-of-type {\n",
       "        vertical-align: middle;\n",
       "    }\n",
       "\n",
       "    .dataframe tbody tr th {\n",
       "        vertical-align: top;\n",
       "    }\n",
       "\n",
       "    .dataframe thead th {\n",
       "        text-align: right;\n",
       "    }\n",
       "</style>\n",
       "<table border=\"1\" class=\"dataframe\">\n",
       "  <thead>\n",
       "    <tr style=\"text-align: right;\">\n",
       "      <th></th>\n",
       "      <th>player_id</th>\n",
       "      <th>guild</th>\n",
       "      <th>level</th>\n",
       "      <th>race</th>\n",
       "      <th>class</th>\n",
       "      <th>where</th>\n",
       "      <th>datetime</th>\n",
       "    </tr>\n",
       "  </thead>\n",
       "  <tbody>\n",
       "    <tr>\n",
       "      <th>128</th>\n",
       "      <td>47075</td>\n",
       "      <td>NaN</td>\n",
       "      <td>8</td>\n",
       "      <td>Blood Elf</td>\n",
       "      <td>Rogue</td>\n",
       "      <td>Orgrimmar</td>\n",
       "      <td>2007-06-12 03:20:35</td>\n",
       "    </tr>\n",
       "    <tr>\n",
       "      <th>129</th>\n",
       "      <td>47371</td>\n",
       "      <td>NaN</td>\n",
       "      <td>7</td>\n",
       "      <td>Blood Elf</td>\n",
       "      <td>Rogue</td>\n",
       "      <td>Eversong Woods</td>\n",
       "      <td>2007-06-12 03:20:35</td>\n",
       "    </tr>\n",
       "    <tr>\n",
       "      <th>130</th>\n",
       "      <td>47349</td>\n",
       "      <td>NaN</td>\n",
       "      <td>10</td>\n",
       "      <td>Blood Elf</td>\n",
       "      <td>Priest</td>\n",
       "      <td>Eversong Woods</td>\n",
       "      <td>2007-06-12 03:20:35</td>\n",
       "    </tr>\n",
       "    <tr>\n",
       "      <th>131</th>\n",
       "      <td>38498</td>\n",
       "      <td>5.0</td>\n",
       "      <td>10</td>\n",
       "      <td>Blood Elf</td>\n",
       "      <td>Paladin</td>\n",
       "      <td>Eversong Woods</td>\n",
       "      <td>2007-06-12 03:20:35</td>\n",
       "    </tr>\n",
       "    <tr>\n",
       "      <th>132</th>\n",
       "      <td>41531</td>\n",
       "      <td>19.0</td>\n",
       "      <td>17</td>\n",
       "      <td>Blood Elf</td>\n",
       "      <td>Hunter</td>\n",
       "      <td>Wailing Caverns</td>\n",
       "      <td>2007-06-12 03:20:40</td>\n",
       "    </tr>\n",
       "  </tbody>\n",
       "</table>\n",
       "</div>"
      ],
      "text/plain": [
       "     player_id  guild  level       race    class            where  \\\n",
       "128      47075    NaN      8  Blood Elf    Rogue        Orgrimmar   \n",
       "129      47371    NaN      7  Blood Elf    Rogue   Eversong Woods   \n",
       "130      47349    NaN     10  Blood Elf   Priest   Eversong Woods   \n",
       "131      38498    5.0     10  Blood Elf  Paladin   Eversong Woods   \n",
       "132      41531   19.0     17  Blood Elf   Hunter  Wailing Caverns   \n",
       "\n",
       "               datetime  \n",
       "128 2007-06-12 03:20:35  \n",
       "129 2007-06-12 03:20:35  \n",
       "130 2007-06-12 03:20:35  \n",
       "131 2007-06-12 03:20:35  \n",
       "132 2007-06-12 03:20:40  "
      ]
     },
     "execution_count": 36,
     "metadata": {},
     "output_type": "execute_result"
    }
   ],
   "source": [
    "data.sort_values(by=\"race\")\n",
    "uniquePlayerData=data.drop_duplicates(subset=\"player_id\")\n",
    "print(uniquePlayerData.shape)\n",
    "data.head()"
   ]
  },
  {
   "cell_type": "code",
   "execution_count": 37,
   "metadata": {},
   "outputs": [
    {
     "name": "stdout",
     "output_type": "stream",
     "text": [
      "[29091     1     1     1     1     1     0     0     0     0]\n"
     ]
    },
    {
     "name": "stderr",
     "output_type": "stream",
     "text": [
      "c:\\Users\\cheni\\AppData\\Local\\Programs\\Python\\Python37\\lib\\site-packages\\IPython\\core\\pylabtools.py:151: UserWarning: Glyph 20154 (\\N{CJK UNIFIED IDEOGRAPH-4EBA}) missing from current font.\n",
      "  fig.canvas.print_figure(bytes_io, **kw)\n",
      "c:\\Users\\cheni\\AppData\\Local\\Programs\\Python\\Python37\\lib\\site-packages\\IPython\\core\\pylabtools.py:151: UserWarning: Glyph 26063 (\\N{CJK UNIFIED IDEOGRAPH-65CF}) missing from current font.\n",
      "  fig.canvas.print_figure(bytes_io, **kw)\n",
      "c:\\Users\\cheni\\AppData\\Local\\Programs\\Python\\Python37\\lib\\site-packages\\IPython\\core\\pylabtools.py:151: UserWarning: Glyph 22934 (\\N{CJK UNIFIED IDEOGRAPH-5996}) missing from current font.\n",
      "  fig.canvas.print_figure(bytes_io, **kw)\n"
     ]
    },
    {
     "data": {
      "image/png": "[encoded data removed]",
      "text/plain": [
       "<Figure size 432x288 with 1 Axes>"
      ]
     },
     "metadata": {
      "needs_background": "light"
     },
     "output_type": "display_data"
    }
   ],
   "source": [
    "print(uniquePlayerData[\"race\"].value_counts().values)\n",
    "sns.barplot(uniquePlayerData,y=uniquePlayerData[\"race\"].value_counts().index,x=uniquePlayerData[\"race\"].value_counts().values)\n",
    "plt.title(\"Race repartition\")\n",
    "plt.show()"
   ]
  }
 ],
 "metadata": {
  "kernelspec": {
   "display_name": "Python 3",
   "language": "python",
   "name": "python3"
  },
  "language_info": {
   "codemirror_mode": {
    "name": "ipython",
    "version": 3
   },
   "file_extension": ".py",
   "mimetype": "text/x-python",
   "name": "python",
   "nbconvert_exporter": "python",
   "pygments_lexer": "ipython3",
   "version": "3.7.2"
  }
 },
 "nbformat": 4,
 "nbformat_minor": 2
}
